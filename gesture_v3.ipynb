{
 "cells": [
  {
   "cell_type": "code",
   "execution_count": 1,
   "id": "2d0b2590-65fe-44d7-8c1b-1615a1f5d314",
   "metadata": {},
   "outputs": [],
   "source": [
    "import numpy as np\n",
    "import os\n",
    "#from scipy.misc.pilutil import imread, imresize\n",
    "import imageio.v2 as imageio\n",
    "from imageio import imread\n",
    "import datetime\n",
    "from skimage.transform import resize"
   ]
  },
  {
   "cell_type": "code",
   "execution_count": 2,
   "id": "df5507c8-3e84-4070-aef7-46c20690f7ad",
   "metadata": {},
   "outputs": [],
   "source": [
    "np.random.seed(30)\n",
    "import random as rn\n",
    "rn.seed(30)\n",
    "from keras import backend as K\n",
    "import tensorflow as tf\n",
    "#tf.set_random_seed(30)\n",
    "tf.random.set_seed(30)"
   ]
  },
  {
   "cell_type": "code",
   "execution_count": 3,
   "id": "5a03a3dd-861f-42d7-b940-cb8139eb7b4f",
   "metadata": {},
   "outputs": [],
   "source": [
    "train_doc = np.random.permutation(open('C:\\\\Users\\\\JITHAN\\\\Downloads\\\\Project_data\\\\train.csv').readlines())\n",
    "val_doc = np.random.permutation(open('C:\\\\Users\\\\JITHAN\\\\Downloads\\\\Project_data\\\\val.csv').readlines())\n",
    "batch_size = 32"
   ]
  },
  {
   "cell_type": "code",
   "execution_count": 4,
   "id": "673291ae-b0c7-4162-ac6a-cf7769af57ce",
   "metadata": {},
   "outputs": [],
   "source": [
    "train_path=\"C:\\\\Users\\\\JITHAN\\\\Downloads\\\\Project_data\\\\train\"\n",
    "val_path=\"C:\\\\Users\\\\JITHAN\\\\Downloads\\\\Project_data\\\\val\""
   ]
  },
  {
   "cell_type": "code",
   "execution_count": 5,
   "id": "b3956ec7-c9f9-46cb-9ec8-6da80f93bcaf",
   "metadata": {},
   "outputs": [],
   "source": [
    "resize_val = 128"
   ]
  },
  {
   "cell_type": "code",
   "execution_count": 6,
   "id": "0541e262-5a68-4080-9ce3-c2d6131a926c",
   "metadata": {},
   "outputs": [],
   "source": [
    "def generator(source_path, folder_list, batch_size):\n",
    "    print( 'Source path = ', source_path, '; batch size =', batch_size)\n",
    "    #img_idx = [0,3,7,8,10] #create a list of image numbers you want to use for a particular video\n",
    "    img_idx = list(range(0,30))\n",
    "    \n",
    "    ## Complete Batches\n",
    "    while True:\n",
    "        t = np.random.permutation(folder_list)\n",
    "        num_batches = len(t)//batch_size # calculate the number of batches\n",
    "        for batch in range(num_batches): # we iterate over the number of batches\n",
    "            batch_data = np.zeros((batch_size,30,resize_val,resize_val,3)) # x is the number of images you use for each video, (y,z) is the final size of the input images and 3 is the number of channels RGB\n",
    "            batch_labels = np.zeros((batch_size,5)) # batch_labels is the one hot representation of the output\n",
    "            for folder in range(batch_size): # iterate over the batch_size\n",
    "                imgs = os.listdir(source_path+'/'+ t[folder + (batch*batch_size)].split(';')[0]) # read all the images in the folder\n",
    "                for idx,item in enumerate(img_idx): #  Iterate over the frames/images of a folder to read them in\n",
    "                    image = imread(source_path+'/'+ t[folder + (batch*batch_size)].strip().split(';')[0]+'/'+imgs[item]).astype(np.float32)\n",
    "                    \n",
    "                    #crop the images and resize them. Note that the images are of 2 different shape \n",
    "                    #and the conv3D will throw error if the inputs in a batch have different shapes\n",
    "                    image_resized=resize(image,(resize_val,resize_val,3))\n",
    "                    \n",
    "                    batch_data[folder,idx,:,:,0] = (image_resized[:,:,0])/255#normalise and feed in the image\n",
    "                    batch_data[folder,idx,:,:,1] = (image_resized[:,:,1])/255#normalise and feed in the image\n",
    "                    batch_data[folder,idx,:,:,2] = (image_resized[:,:,2])/255#normalise and feed in the image\n",
    "                    \n",
    "                batch_labels[folder, int(t[folder + (batch*batch_size)].strip().split(';')[2])] = 1\n",
    "            yield batch_data, batch_labels #you yield the batch_data and the batch_labels, remember what does yield do\n",
    "\n",
    "        \n",
    "        # write the code for the remaining data points which are left after full batches\n",
    "        last_batch_size = len(t)%batch_size\n",
    "        if last_batch_size:\n",
    "            batch_data = np.zeros((batch_size,30,resize_val,resize_val,3))\n",
    "            batch_labels = np.zeros((batch_size,5))\n",
    "            for folder in range(last_batch_size):\n",
    "                imgs = os.listdir(source_path+'/'+ t[folder + (batch*batch_size)].split(';')[0]) # read all the images in the folder\n",
    "                for idx,item in enumerate(img_idx): #  Iterate over the frames/images of a folder to read them in\n",
    "                    image = imread(source_path+'/'+ t[folder + (batch*batch_size)].strip().split(';')[0]+'/'+imgs[item]).astype(np.float32)\n",
    "                    \n",
    "                    #crop the images and resize them. Note that the images are of 2 different shape \n",
    "                    #and the conv3D will throw error if the inputs in a batch have different shapes\n",
    "                    image_resized=resize(image,(resize_val,resize_val,3))\n",
    "                    \n",
    "                    batch_data[folder,idx,:,:,0] = (image_resized[:,:,0])/255#normalise and feed in the image\n",
    "                    batch_data[folder,idx,:,:,1] = (image_resized[:,:,1])/255#normalise and feed in the image\n",
    "                    batch_data[folder,idx,:,:,2] = (image_resized[:,:,2])/255#normalise and feed in the image\n",
    "                    \n",
    "                batch_labels[folder, int(t[folder + (batch*batch_size)].strip().split(';')[2])] = 1\n",
    "            yield batch_data, batch_labels #you yield the batch_data and the batch_labels, remember what does yield do\n",
    "\n"
   ]
  },
  {
   "cell_type": "code",
   "execution_count": 7,
   "id": "3a179de8-4e09-4b58-ae68-66c433deb35a",
   "metadata": {},
   "outputs": [
    {
     "name": "stdout",
     "output_type": "stream",
     "text": [
      "# training sequences = 663\n",
      "# validation sequences = 100\n",
      "# epochs = 30\n"
     ]
    }
   ],
   "source": [
    "curr_dt_time = datetime.datetime.now()\n",
    "train_path=\"C:\\\\Users\\\\JITHAN\\\\Downloads\\\\Project_data\\\\train\"\n",
    "val_path=\"C:\\\\Users\\\\JITHAN\\\\Downloads\\\\Project_data\\\\val\"\n",
    "num_train_sequences = len(train_doc)\n",
    "print('# training sequences =', num_train_sequences)\n",
    "num_val_sequences = len(val_doc)\n",
    "print('# validation sequences =', num_val_sequences)\n",
    "num_epochs = 30# choose the number of epochs\n",
    "print ('# epochs =', num_epochs)"
   ]
  },
  {
   "cell_type": "code",
   "execution_count": 8,
   "id": "65112fbf-5ba8-4e0f-b0ef-419500eee8dc",
   "metadata": {},
   "outputs": [],
   "source": [
    "from keras.models import Sequential, Model\n",
    "from keras.layers import Dense, GRU, LSTM, Flatten, TimeDistributed, Flatten, BatchNormalization, Activation, Dropout\n",
    "from keras.layers.convolutional import Conv3D, MaxPooling3D\n",
    "from keras.callbacks import ModelCheckpoint, ReduceLROnPlateau\n",
    "from keras import optimizers"
   ]
  },
  {
   "cell_type": "code",
   "execution_count": 9,
   "id": "a845abaf-61a9-4383-9c42-c523ca2c61a9",
   "metadata": {},
   "outputs": [],
   "source": [
    "cnn_model = Sequential()\n",
    "cnn_model.add(Conv3D(16, (3, 3, 3), padding='same',\n",
    "         input_shape=(30,resize_val,resize_val,3)))\n",
    "cnn_model.add(Activation('relu'))\n",
    "cnn_model.add(BatchNormalization())\n",
    "cnn_model.add(MaxPooling3D(pool_size=(2, 2, 2)))\n",
    "\n",
    "cnn_model.add(Conv3D(32, (2, 2, 2), padding='same'))\n",
    "cnn_model.add(Activation('relu'))\n",
    "cnn_model.add(BatchNormalization())\n",
    "cnn_model.add(MaxPooling3D(pool_size=(2, 2, 2)))\n",
    "\n",
    "cnn_model.add(Conv3D(64, (2, 2, 2), padding='same'))\n",
    "cnn_model.add(Activation('relu'))\n",
    "cnn_model.add(BatchNormalization())\n",
    "cnn_model.add(MaxPooling3D(pool_size=(2, 2, 2)))\n",
    "\n",
    "cnn_model.add(Conv3D(128, (2, 2, 2), padding='same'))\n",
    "cnn_model.add(Activation('relu'))\n",
    "cnn_model.add(BatchNormalization())\n",
    "cnn_model.add(MaxPooling3D(pool_size=(2, 2, 2)))\n",
    "\n",
    "cnn_model.add(Flatten())\n",
    "cnn_model.add(Dense(128,activation='relu'))\n",
    "cnn_model.add(BatchNormalization())\n",
    "cnn_model.add(Dropout(0.5))\n",
    "\n",
    "cnn_model.add(Dense(64,activation='relu'))\n",
    "cnn_model.add(BatchNormalization())\n",
    "cnn_model.add(Dropout(0.25))\n",
    "\n",
    "\n",
    "cnn_model.add(Dense(5,activation='softmax'))\n",
    "\n",
    "#optimiser = optimizers.Adam()\n",
    "#optimiser = 'sgd'\n",
    "cnn_model.compile(optimizer='sgd', loss='categorical_crossentropy', metrics=['categorical_accuracy'])\n"
   ]
  },
  {
   "cell_type": "code",
   "execution_count": 10,
   "id": "0d2a4cc1-ec3d-419e-9055-774dd8dce4d3",
   "metadata": {},
   "outputs": [
    {
     "name": "stdout",
     "output_type": "stream",
     "text": [
      "Model: \"sequential\"\n",
      "_________________________________________________________________\n",
      " Layer (type)                Output Shape              Param #   \n",
      "=================================================================\n",
      " conv3d (Conv3D)             (None, 30, 128, 128, 16)  1312      \n",
      "                                                                 \n",
      " activation (Activation)     (None, 30, 128, 128, 16)  0         \n",
      "                                                                 \n",
      " batch_normalization (BatchN  (None, 30, 128, 128, 16)  64       \n",
      " ormalization)                                                   \n",
      "                                                                 \n",
      " max_pooling3d (MaxPooling3D  (None, 15, 64, 64, 16)   0         \n",
      " )                                                               \n",
      "                                                                 \n",
      " conv3d_1 (Conv3D)           (None, 15, 64, 64, 32)    4128      \n",
      "                                                                 \n",
      " activation_1 (Activation)   (None, 15, 64, 64, 32)    0         \n",
      "                                                                 \n",
      " batch_normalization_1 (Batc  (None, 15, 64, 64, 32)   128       \n",
      " hNormalization)                                                 \n",
      "                                                                 \n",
      " max_pooling3d_1 (MaxPooling  (None, 7, 32, 32, 32)    0         \n",
      " 3D)                                                             \n",
      "                                                                 \n",
      " conv3d_2 (Conv3D)           (None, 7, 32, 32, 64)     16448     \n",
      "                                                                 \n",
      " activation_2 (Activation)   (None, 7, 32, 32, 64)     0         \n",
      "                                                                 \n",
      " batch_normalization_2 (Batc  (None, 7, 32, 32, 64)    256       \n",
      " hNormalization)                                                 \n",
      "                                                                 \n",
      " max_pooling3d_2 (MaxPooling  (None, 3, 16, 16, 64)    0         \n",
      " 3D)                                                             \n",
      "                                                                 \n",
      " conv3d_3 (Conv3D)           (None, 3, 16, 16, 128)    65664     \n",
      "                                                                 \n",
      " activation_3 (Activation)   (None, 3, 16, 16, 128)    0         \n",
      "                                                                 \n",
      " batch_normalization_3 (Batc  (None, 3, 16, 16, 128)   512       \n",
      " hNormalization)                                                 \n",
      "                                                                 \n",
      " max_pooling3d_3 (MaxPooling  (None, 1, 8, 8, 128)     0         \n",
      " 3D)                                                             \n",
      "                                                                 \n",
      " flatten (Flatten)           (None, 8192)              0         \n",
      "                                                                 \n",
      " dense (Dense)               (None, 128)               1048704   \n",
      "                                                                 \n",
      " batch_normalization_4 (Batc  (None, 128)              512       \n",
      " hNormalization)                                                 \n",
      "                                                                 \n",
      " dropout (Dropout)           (None, 128)               0         \n",
      "                                                                 \n",
      " dense_1 (Dense)             (None, 64)                8256      \n",
      "                                                                 \n",
      " batch_normalization_5 (Batc  (None, 64)               256       \n",
      " hNormalization)                                                 \n",
      "                                                                 \n",
      " dropout_1 (Dropout)         (None, 64)                0         \n",
      "                                                                 \n",
      " dense_2 (Dense)             (None, 5)                 325       \n",
      "                                                                 \n",
      "=================================================================\n",
      "Total params: 1,146,565\n",
      "Trainable params: 1,145,701\n",
      "Non-trainable params: 864\n",
      "_________________________________________________________________\n"
     ]
    }
   ],
   "source": [
    "cnn_model.summary()"
   ]
  },
  {
   "cell_type": "code",
   "execution_count": 11,
   "id": "407a6030-fc43-419e-a122-b22bb8d2e626",
   "metadata": {},
   "outputs": [],
   "source": [
    "train_generator = generator(train_path, train_doc, batch_size)\n",
    "val_generator = generator(val_path, val_doc, batch_size)"
   ]
  },
  {
   "cell_type": "code",
   "execution_count": 12,
   "id": "f4be11c8-bcc3-46d5-bcfa-44f577442c46",
   "metadata": {},
   "outputs": [
    {
     "name": "stdout",
     "output_type": "stream",
     "text": [
      "WARNING:tensorflow:`period` argument is deprecated. Please use `save_freq` to specify the frequency in number of batches seen.\n"
     ]
    }
   ],
   "source": [
    "model_name = 'model_init' + '_' + str(curr_dt_time).replace(' ','').replace(':','_') + '/'\n",
    "    \n",
    "if not os.path.exists(model_name):\n",
    "    os.mkdir(model_name)\n",
    "        \n",
    "filepath = model_name + 'model-{epoch:05d}-{loss:.5f}-{categorical_accuracy:.5f}-{val_loss:.5f}-{val_categorical_accuracy:.5f}.h5'\n",
    "\n",
    "checkpoint = ModelCheckpoint(filepath, monitor='val_loss', verbose=1, save_best_only=True, save_weights_only=False, mode='auto', period=5)\n",
    "\n",
    "LR = ReduceLROnPlateau(monitor='val_loss', factor=0.2, verbose=1, patience=4)# write the REducelronplateau code here\n",
    "callbacks_list = [checkpoint, LR]"
   ]
  },
  {
   "cell_type": "code",
   "execution_count": 13,
   "id": "2a27fa35-90cb-4c4e-bae8-ec4e0589f4b0",
   "metadata": {},
   "outputs": [],
   "source": [
    "if (num_train_sequences%batch_size) == 0:\n",
    "    steps_per_epoch = int(num_train_sequences/batch_size)\n",
    "else:\n",
    "    steps_per_epoch = (num_train_sequences//batch_size) + 1\n",
    "\n",
    "if (num_val_sequences%batch_size) == 0:\n",
    "    validation_steps = int(num_val_sequences/batch_size)\n",
    "else:\n",
    "    validation_steps = (num_val_sequences//batch_size) + 1"
   ]
  },
  {
   "cell_type": "code",
   "execution_count": 14,
   "id": "077e023e-492f-4ab9-8843-d6dc678865eb",
   "metadata": {},
   "outputs": [
    {
     "name": "stdout",
     "output_type": "stream",
     "text": [
      "Source path =  C:\\Users\\JITHAN\\Downloads\\Project_data\\train ; batch size = 32\n"
     ]
    },
    {
     "name": "stderr",
     "output_type": "stream",
     "text": [
      "C:\\Users\\JITHAN\\AppData\\Local\\Temp/ipykernel_65668/2932977404.py:16: DeprecationWarning: Starting with ImageIO v3 the behavior of this function will switch to that of iio.v3.imread. To keep the current behavior (and make this warning dissapear) use `import imageio.v2 as imageio` or call `imageio.v2.imread` directly.\n",
      "  image = imread(source_path+'/'+ t[folder + (batch*batch_size)].strip().split(';')[0]+'/'+imgs[item]).astype(np.float32)\n"
     ]
    },
    {
     "name": "stdout",
     "output_type": "stream",
     "text": [
      "Epoch 1/30\n",
      "19/21 [==========================>...] - ETA: 38s - loss: 1.8649 - categorical_accuracy: 0.3289"
     ]
    },
    {
     "name": "stderr",
     "output_type": "stream",
     "text": [
      "C:\\Users\\JITHAN\\AppData\\Local\\Temp/ipykernel_65668/2932977404.py:38: DeprecationWarning: Starting with ImageIO v3 the behavior of this function will switch to that of iio.v3.imread. To keep the current behavior (and make this warning dissapear) use `import imageio.v2 as imageio` or call `imageio.v2.imread` directly.\n",
      "  image = imread(source_path+'/'+ t[folder + (batch*batch_size)].strip().split(';')[0]+'/'+imgs[item]).astype(np.float32)\n"
     ]
    },
    {
     "name": "stdout",
     "output_type": "stream",
     "text": [
      "21/21 [==============================] - ETA: 0s - loss: 1.8037 - categorical_accuracy: 0.3259 Source path =  C:\\Users\\JITHAN\\Downloads\\Project_data\\val ; batch size = 32\n",
      "21/21 [==============================] - 456s 22s/step - loss: 1.8037 - categorical_accuracy: 0.3259 - val_loss: 32.7509 - val_categorical_accuracy: 0.1484 - lr: 0.0100\n",
      "Epoch 2/30\n",
      "21/21 [==============================] - 512s 25s/step - loss: 1.5016 - categorical_accuracy: 0.4330 - val_loss: 5.5971 - val_categorical_accuracy: 0.1719 - lr: 0.0100\n",
      "Epoch 3/30\n",
      "21/21 [==============================] - 475s 23s/step - loss: 1.2457 - categorical_accuracy: 0.5179 - val_loss: 7.6348 - val_categorical_accuracy: 0.0859 - lr: 0.0100\n",
      "Epoch 4/30\n",
      "21/21 [==============================] - 473s 23s/step - loss: 1.1950 - categorical_accuracy: 0.5089 - val_loss: 3.7411 - val_categorical_accuracy: 0.1797 - lr: 0.0100\n",
      "Epoch 5/30\n",
      "21/21 [==============================] - ETA: 0s - loss: 0.9977 - categorical_accuracy: 0.5848 \n",
      "Epoch 5: val_loss improved from inf to 4.26442, saving model to model_init_2022-07-1309_12_20.400172\\model-00005-0.99772-0.58482-4.26442-0.17969.h5\n",
      "21/21 [==============================] - 479s 23s/step - loss: 0.9977 - categorical_accuracy: 0.5848 - val_loss: 4.2644 - val_categorical_accuracy: 0.1797 - lr: 0.0100\n",
      "Epoch 6/30\n",
      "21/21 [==============================] - 489s 23s/step - loss: 0.9779 - categorical_accuracy: 0.5848 - val_loss: 2.5069 - val_categorical_accuracy: 0.1875 - lr: 0.0100\n",
      "Epoch 7/30\n",
      "21/21 [==============================] - 495s 24s/step - loss: 0.9153 - categorical_accuracy: 0.6265 - val_loss: 1.7086 - val_categorical_accuracy: 0.2500 - lr: 0.0100\n",
      "Epoch 8/30\n",
      "21/21 [==============================] - 488s 23s/step - loss: 0.7981 - categorical_accuracy: 0.6741 - val_loss: 1.3244 - val_categorical_accuracy: 0.2422 - lr: 0.0100\n",
      "Epoch 9/30\n",
      "21/21 [==============================] - 500s 24s/step - loss: 0.7744 - categorical_accuracy: 0.6830 - val_loss: 6.6636 - val_categorical_accuracy: 0.1562 - lr: 0.0100\n",
      "Epoch 10/30\n",
      "21/21 [==============================] - ETA: 0s - loss: 0.6827 - categorical_accuracy: 0.7158 \n",
      "Epoch 10: val_loss improved from 4.26442 to 1.48555, saving model to model_init_2022-07-1309_12_20.400172\\model-00010-0.68273-0.71577-1.48555-0.49219.h5\n",
      "21/21 [==============================] - 502s 24s/step - loss: 0.6827 - categorical_accuracy: 0.7158 - val_loss: 1.4856 - val_categorical_accuracy: 0.4922 - lr: 0.0100\n",
      "Epoch 11/30\n",
      "21/21 [==============================] - 509s 24s/step - loss: 0.6525 - categorical_accuracy: 0.7336 - val_loss: 5.1631 - val_categorical_accuracy: 0.1719 - lr: 0.0100\n",
      "Epoch 12/30\n",
      "21/21 [==============================] - ETA: 0s - loss: 0.6440 - categorical_accuracy: 0.7292 \n",
      "Epoch 12: ReduceLROnPlateau reducing learning rate to 0.0019999999552965165.\n",
      "21/21 [==============================] - 503s 24s/step - loss: 0.6440 - categorical_accuracy: 0.7292 - val_loss: 1.5817 - val_categorical_accuracy: 0.5078 - lr: 0.0100\n",
      "Epoch 13/30\n",
      "21/21 [==============================] - 502s 24s/step - loss: 0.6049 - categorical_accuracy: 0.7485 - val_loss: 1.1015 - val_categorical_accuracy: 0.5781 - lr: 0.0020\n",
      "Epoch 14/30\n",
      "21/21 [==============================] - 495s 24s/step - loss: 0.5267 - categorical_accuracy: 0.7976 - val_loss: 0.8911 - val_categorical_accuracy: 0.4609 - lr: 0.0020\n",
      "Epoch 15/30\n",
      "21/21 [==============================] - ETA: 0s - loss: 0.5337 - categorical_accuracy: 0.7961 \n",
      "Epoch 15: val_loss improved from 1.48555 to 0.87347, saving model to model_init_2022-07-1309_12_20.400172\\model-00015-0.53369-0.79613-0.87347-0.70312.h5\n",
      "21/21 [==============================] - 497s 24s/step - loss: 0.5337 - categorical_accuracy: 0.7961 - val_loss: 0.8735 - val_categorical_accuracy: 0.7031 - lr: 0.0020\n",
      "Epoch 16/30\n",
      "21/21 [==============================] - 491s 23s/step - loss: 0.4792 - categorical_accuracy: 0.8170 - val_loss: 0.6992 - val_categorical_accuracy: 0.7500 - lr: 0.0020\n",
      "Epoch 17/30\n",
      "21/21 [==============================] - 503s 24s/step - loss: 0.5355 - categorical_accuracy: 0.7946 - val_loss: 0.7530 - val_categorical_accuracy: 0.5078 - lr: 0.0020\n",
      "Epoch 18/30\n",
      "21/21 [==============================] - 496s 24s/step - loss: 0.5222 - categorical_accuracy: 0.7917 - val_loss: 0.6234 - val_categorical_accuracy: 0.5234 - lr: 0.0020\n",
      "Epoch 19/30\n",
      "21/21 [==============================] - 496s 24s/step - loss: 0.4266 - categorical_accuracy: 0.8318 - val_loss: 0.6602 - val_categorical_accuracy: 0.5234 - lr: 0.0020\n",
      "Epoch 20/30\n",
      "21/21 [==============================] - ETA: 0s - loss: 0.4642 - categorical_accuracy: 0.8378 \n",
      "Epoch 20: val_loss improved from 0.87347 to 0.62643, saving model to model_init_2022-07-1309_12_20.400172\\model-00020-0.46419-0.83780-0.62643-0.56250.h5\n",
      "21/21 [==============================] - 490s 23s/step - loss: 0.4642 - categorical_accuracy: 0.8378 - val_loss: 0.6264 - val_categorical_accuracy: 0.5625 - lr: 0.0020\n",
      "Epoch 21/30\n",
      "21/21 [==============================] - 496s 24s/step - loss: 0.4407 - categorical_accuracy: 0.8289 - val_loss: 0.5947 - val_categorical_accuracy: 0.5625 - lr: 0.0020\n",
      "Epoch 22/30\n",
      "21/21 [==============================] - 494s 24s/step - loss: 0.4816 - categorical_accuracy: 0.8140 - val_loss: 0.7082 - val_categorical_accuracy: 0.4688 - lr: 0.0020\n",
      "Epoch 23/30\n",
      "21/21 [==============================] - 498s 24s/step - loss: 0.4257 - categorical_accuracy: 0.8423 - val_loss: 0.5059 - val_categorical_accuracy: 0.7734 - lr: 0.0020\n",
      "Epoch 24/30\n",
      "21/21 [==============================] - 494s 24s/step - loss: 0.4609 - categorical_accuracy: 0.8199 - val_loss: 0.5442 - val_categorical_accuracy: 0.5391 - lr: 0.0020\n",
      "Epoch 25/30\n",
      "21/21 [==============================] - ETA: 0s - loss: 0.3940 - categorical_accuracy: 0.8661 \n",
      "Epoch 25: val_loss improved from 0.62643 to 0.59880, saving model to model_init_2022-07-1309_12_20.400172\\model-00025-0.39399-0.86607-0.59880-0.50000.h5\n",
      "21/21 [==============================] - 496s 24s/step - loss: 0.3940 - categorical_accuracy: 0.8661 - val_loss: 0.5988 - val_categorical_accuracy: 0.5000 - lr: 0.0020\n",
      "Epoch 26/30\n",
      "21/21 [==============================] - 499s 24s/step - loss: 0.4215 - categorical_accuracy: 0.8423 - val_loss: 0.7275 - val_categorical_accuracy: 0.5000 - lr: 0.0020\n",
      "Epoch 27/30\n",
      "21/21 [==============================] - ETA: 0s - loss: 0.4188 - categorical_accuracy: 0.8452 \n",
      "Epoch 27: ReduceLROnPlateau reducing learning rate to 0.0003999999724328518.\n",
      "21/21 [==============================] - 495s 24s/step - loss: 0.4188 - categorical_accuracy: 0.8452 - val_loss: 0.5875 - val_categorical_accuracy: 0.5078 - lr: 0.0020\n",
      "Epoch 28/30\n",
      "21/21 [==============================] - 490s 23s/step - loss: 0.4003 - categorical_accuracy: 0.8527 - val_loss: 0.5620 - val_categorical_accuracy: 0.5469 - lr: 4.0000e-04\n",
      "Epoch 29/30\n",
      "21/21 [==============================] - 495s 24s/step - loss: 0.3963 - categorical_accuracy: 0.8557 - val_loss: 0.5327 - val_categorical_accuracy: 0.5781 - lr: 4.0000e-04\n",
      "Epoch 30/30\n",
      "21/21 [==============================] - ETA: 0s - loss: 0.3601 - categorical_accuracy: 0.8795 \n",
      "Epoch 30: val_loss improved from 0.59880 to 0.49638, saving model to model_init_2022-07-1309_12_20.400172\\model-00030-0.36015-0.87946-0.49638-0.56250.h5\n",
      "21/21 [==============================] - 487s 23s/step - loss: 0.3601 - categorical_accuracy: 0.8795 - val_loss: 0.4964 - val_categorical_accuracy: 0.5625 - lr: 4.0000e-04\n",
      "Started: 2022-07-13 09:12:20.682549\n",
      "Ended: 2022-07-13 13:19:03.377011\n"
     ]
    }
   ],
   "source": [
    "#num_epochs=50\n",
    "time_start=datetime.datetime.now()\n",
    "cnn_model_history= cnn_model.fit(train_generator, steps_per_epoch=steps_per_epoch, epochs=num_epochs, verbose=1, \n",
    "                                 callbacks=callbacks_list, validation_data=val_generator, \n",
    "                                 validation_steps=validation_steps, class_weight=None, workers=1, initial_epoch=0)\n",
    "time_end=datetime.datetime.now()\n",
    "print(\"Started: {}\".format(time_start))\n",
    "print(\"Ended: {}\".format(time_end))"
   ]
  },
  {
   "cell_type": "code",
   "execution_count": 15,
   "id": "2b8d665b-851a-44b2-b85e-a5c734295777",
   "metadata": {},
   "outputs": [
    {
     "data": {
      "text/plain": [
       "<matplotlib.legend.Legend at 0x1b7997cb790>"
      ]
     },
     "execution_count": 15,
     "metadata": {},
     "output_type": "execute_result"
    },
    {
     "data": {
      "image/png": "[encoded data removed]",
      "text/plain": [
       "<Figure size 1080x288 with 2 Axes>"
      ]
     },
     "metadata": {
      "needs_background": "light"
     },
     "output_type": "display_data"
    }
   ],
   "source": [
    "from matplotlib import pyplot as plt\n",
    "fig, axes = plt.subplots(nrows=1, ncols=2, figsize=(15,4))\n",
    "axes[0].plot(cnn_model_history.history['loss'])   \n",
    "axes[0].plot(cnn_model_history.history['val_loss'])\n",
    "axes[0].legend(['loss','val_loss'])\n",
    "\n",
    "axes[1].plot(cnn_model_history.history['categorical_accuracy'])   \n",
    "axes[1].plot(cnn_model_history.history['val_categorical_accuracy'])\n",
    "axes[1].legend(['categorical_accuracy','val_categorical_accuracy'])"
   ]
  },
  {
   "cell_type": "code",
   "execution_count": 16,
   "id": "b03c11b5-800f-47dd-b854-2c4c95829fec",
   "metadata": {},
   "outputs": [],
   "source": [
    "from keras.layers.convolutional import Conv2D, MaxPooling2D"
   ]
  },
  {
   "cell_type": "code",
   "execution_count": 17,
   "id": "1133ff9e-a182-41ae-8ade-62a59941f296",
   "metadata": {},
   "outputs": [],
   "source": [
    "gru_model = Sequential()\n",
    "\n",
    "gru_model.add(TimeDistributed(Conv2D(16, (3, 3) , padding='same', activation='relu'),\n",
    "                          input_shape=(30,resize_val,resize_val,3)))\n",
    "gru_model.add(TimeDistributed(BatchNormalization()))\n",
    "gru_model.add(TimeDistributed(MaxPooling2D((2, 2))))\n",
    "\n",
    "gru_model.add(TimeDistributed(Conv2D(32, (3, 3) , padding='same', activation='relu')))\n",
    "gru_model.add(TimeDistributed(BatchNormalization()))\n",
    "gru_model.add(TimeDistributed(MaxPooling2D((2, 2))))\n",
    "\n",
    "gru_model.add(TimeDistributed(Conv2D(64, (3, 3) , padding='same', activation='relu')))\n",
    "gru_model.add(TimeDistributed(BatchNormalization()))\n",
    "gru_model.add(TimeDistributed(MaxPooling2D((2, 2))))\n",
    "\n",
    "gru_model.add(TimeDistributed(Conv2D(128, (3, 3) , padding='same', activation='relu')))\n",
    "gru_model.add(TimeDistributed(BatchNormalization()))\n",
    "gru_model.add(TimeDistributed(MaxPooling2D((2, 2))))\n",
    "\n",
    "\n",
    "gru_model.add(TimeDistributed(Flatten()))\n",
    "\n",
    "\n",
    "gru_model.add(GRU(128))\n",
    "gru_model.add(Dropout(0.5))\n",
    "\n",
    "gru_model.add(Dense(64,activation='relu'))\n",
    "gru_model.add(Dropout(0.25))\n",
    "\n",
    "gru_model.add(Dense(5, activation='softmax'))\n",
    "gru_model.compile(optimizer='sgd', loss='categorical_crossentropy', metrics=['categorical_accuracy'])"
   ]
  },
  {
   "cell_type": "code",
   "execution_count": 18,
   "id": "43d91586-d963-4ac9-b707-dc00d1eacca0",
   "metadata": {},
   "outputs": [
    {
     "name": "stdout",
     "output_type": "stream",
     "text": [
      "Model: \"sequential_1\"\n",
      "_________________________________________________________________\n",
      " Layer (type)                Output Shape              Param #   \n",
      "=================================================================\n",
      " time_distributed (TimeDistr  (None, 30, 128, 128, 16)  448      \n",
      " ibuted)                                                         \n",
      "                                                                 \n",
      " time_distributed_1 (TimeDis  (None, 30, 128, 128, 16)  64       \n",
      " tributed)                                                       \n",
      "                                                                 \n",
      " time_distributed_2 (TimeDis  (None, 30, 64, 64, 16)   0         \n",
      " tributed)                                                       \n",
      "                                                                 \n",
      " time_distributed_3 (TimeDis  (None, 30, 64, 64, 32)   4640      \n",
      " tributed)                                                       \n",
      "                                                                 \n",
      " time_distributed_4 (TimeDis  (None, 30, 64, 64, 32)   128       \n",
      " tributed)                                                       \n",
      "                                                                 \n",
      " time_distributed_5 (TimeDis  (None, 30, 32, 32, 32)   0         \n",
      " tributed)                                                       \n",
      "                                                                 \n",
      " time_distributed_6 (TimeDis  (None, 30, 32, 32, 64)   18496     \n",
      " tributed)                                                       \n",
      "                                                                 \n",
      " time_distributed_7 (TimeDis  (None, 30, 32, 32, 64)   256       \n",
      " tributed)                                                       \n",
      "                                                                 \n",
      " time_distributed_8 (TimeDis  (None, 30, 16, 16, 64)   0         \n",
      " tributed)                                                       \n",
      "                                                                 \n",
      " time_distributed_9 (TimeDis  (None, 30, 16, 16, 128)  73856     \n",
      " tributed)                                                       \n",
      "                                                                 \n",
      " time_distributed_10 (TimeDi  (None, 30, 16, 16, 128)  512       \n",
      " stributed)                                                      \n",
      "                                                                 \n",
      " time_distributed_11 (TimeDi  (None, 30, 8, 8, 128)    0         \n",
      " stributed)                                                      \n",
      "                                                                 \n",
      " time_distributed_12 (TimeDi  (None, 30, 8192)         0         \n",
      " stributed)                                                      \n",
      "                                                                 \n",
      " gru (GRU)                   (None, 128)               3195648   \n",
      "                                                                 \n",
      " dropout_2 (Dropout)         (None, 128)               0         \n",
      "                                                                 \n",
      " dense_3 (Dense)             (None, 64)                8256      \n",
      "                                                                 \n",
      " dropout_3 (Dropout)         (None, 64)                0         \n",
      "                                                                 \n",
      " dense_4 (Dense)             (None, 5)                 325       \n",
      "                                                                 \n",
      "=================================================================\n",
      "Total params: 3,302,629\n",
      "Trainable params: 3,302,149\n",
      "Non-trainable params: 480\n",
      "_________________________________________________________________\n"
     ]
    }
   ],
   "source": [
    "gru_model.summary()"
   ]
  },
  {
   "cell_type": "code",
   "execution_count": 19,
   "id": "8ae7c8f3-9c0b-4160-8edd-95c33de05930",
   "metadata": {},
   "outputs": [
    {
     "name": "stderr",
     "output_type": "stream",
     "text": [
      "C:\\Users\\JITHAN\\AppData\\Local\\Temp/ipykernel_65668/2932977404.py:16: DeprecationWarning: Starting with ImageIO v3 the behavior of this function will switch to that of iio.v3.imread. To keep the current behavior (and make this warning dissapear) use `import imageio.v2 as imageio` or call `imageio.v2.imread` directly.\n",
      "  image = imread(source_path+'/'+ t[folder + (batch*batch_size)].strip().split(';')[0]+'/'+imgs[item]).astype(np.float32)\n"
     ]
    },
    {
     "name": "stdout",
     "output_type": "stream",
     "text": [
      "Epoch 1/30\n",
      "18/21 [========================>.....] - ETA: 40s - loss: 1.7293 - categorical_accuracy: 0.3194"
     ]
    },
    {
     "name": "stderr",
     "output_type": "stream",
     "text": [
      "C:\\Users\\JITHAN\\AppData\\Local\\Temp/ipykernel_65668/2932977404.py:38: DeprecationWarning: Starting with ImageIO v3 the behavior of this function will switch to that of iio.v3.imread. To keep the current behavior (and make this warning dissapear) use `import imageio.v2 as imageio` or call `imageio.v2.imread` directly.\n",
      "  image = imread(source_path+'/'+ t[folder + (batch*batch_size)].strip().split(';')[0]+'/'+imgs[item]).astype(np.float32)\n"
     ]
    },
    {
     "name": "stdout",
     "output_type": "stream",
     "text": [
      "21/21 [==============================] - 319s 15s/step - loss: 1.6865 - categorical_accuracy: 0.3318 - val_loss: 1.2699 - val_categorical_accuracy: 0.1250 - lr: 0.0100\n",
      "Epoch 2/30\n",
      "21/21 [==============================] - 311s 15s/step - loss: 1.2232 - categorical_accuracy: 0.4836 - val_loss: 1.2215 - val_categorical_accuracy: 0.2031 - lr: 0.0100\n",
      "Epoch 3/30\n",
      "21/21 [==============================] - 349s 17s/step - loss: 1.0489 - categorical_accuracy: 0.5699 - val_loss: 1.2172 - val_categorical_accuracy: 0.2031 - lr: 0.0100\n",
      "Epoch 4/30\n",
      "21/21 [==============================] - 341s 17s/step - loss: 0.9286 - categorical_accuracy: 0.6190 - val_loss: 1.2383 - val_categorical_accuracy: 0.1797 - lr: 0.0100\n",
      "Epoch 5/30\n",
      "21/21 [==============================] - ETA: 0s - loss: 0.8170 - categorical_accuracy: 0.6815 \n",
      "Epoch 5: val_loss did not improve from 0.49638\n",
      "21/21 [==============================] - 338s 16s/step - loss: 0.8170 - categorical_accuracy: 0.6815 - val_loss: 1.3217 - val_categorical_accuracy: 0.1328 - lr: 0.0100\n",
      "Epoch 6/30\n",
      "21/21 [==============================] - 328s 16s/step - loss: 0.7196 - categorical_accuracy: 0.6830 - val_loss: 1.5220 - val_categorical_accuracy: 0.2031 - lr: 0.0100\n",
      "Epoch 7/30\n",
      "21/21 [==============================] - ETA: 0s - loss: 0.6381 - categorical_accuracy: 0.7515 \n",
      "Epoch 7: ReduceLROnPlateau reducing learning rate to 0.0019999999552965165.\n",
      "21/21 [==============================] - 329s 16s/step - loss: 0.6381 - categorical_accuracy: 0.7515 - val_loss: 1.5590 - val_categorical_accuracy: 0.2188 - lr: 0.0100\n",
      "Epoch 8/30\n",
      "21/21 [==============================] - 328s 16s/step - loss: 0.5096 - categorical_accuracy: 0.8021 - val_loss: 1.5476 - val_categorical_accuracy: 0.2656 - lr: 0.0020\n",
      "Epoch 9/30\n",
      "21/21 [==============================] - 325s 16s/step - loss: 0.5008 - categorical_accuracy: 0.8110 - val_loss: 1.6931 - val_categorical_accuracy: 0.1953 - lr: 0.0020\n",
      "Epoch 10/30\n",
      "21/21 [==============================] - ETA: 0s - loss: 0.4680 - categorical_accuracy: 0.8155 \n",
      "Epoch 10: val_loss did not improve from 0.49638\n",
      "21/21 [==============================] - 313s 15s/step - loss: 0.4680 - categorical_accuracy: 0.8155 - val_loss: 1.6448 - val_categorical_accuracy: 0.2266 - lr: 0.0020\n",
      "Epoch 11/30\n",
      "21/21 [==============================] - ETA: 0s - loss: 0.4416 - categorical_accuracy: 0.8274 \n",
      "Epoch 11: ReduceLROnPlateau reducing learning rate to 0.0003999999724328518.\n",
      "21/21 [==============================] - 318s 15s/step - loss: 0.4416 - categorical_accuracy: 0.8274 - val_loss: 1.6963 - val_categorical_accuracy: 0.2266 - lr: 0.0020\n",
      "Epoch 12/30\n",
      "21/21 [==============================] - 315s 15s/step - loss: 0.4147 - categorical_accuracy: 0.8348 - val_loss: 1.7338 - val_categorical_accuracy: 0.2500 - lr: 4.0000e-04\n",
      "Epoch 13/30\n",
      "21/21 [==============================] - 330s 16s/step - loss: 0.3636 - categorical_accuracy: 0.8676 - val_loss: 1.6674 - val_categorical_accuracy: 0.2422 - lr: 4.0000e-04\n",
      "Epoch 14/30\n",
      "21/21 [==============================] - 319s 15s/step - loss: 0.3877 - categorical_accuracy: 0.8690 - val_loss: 1.7112 - val_categorical_accuracy: 0.2422 - lr: 4.0000e-04\n",
      "Epoch 15/30\n",
      "21/21 [==============================] - ETA: 0s - loss: 0.3576 - categorical_accuracy: 0.8705 \n",
      "Epoch 15: val_loss did not improve from 0.49638\n",
      "\n",
      "Epoch 15: ReduceLROnPlateau reducing learning rate to 7.999999215826393e-05.\n",
      "21/21 [==============================] - 317s 15s/step - loss: 0.3576 - categorical_accuracy: 0.8705 - val_loss: 1.7175 - val_categorical_accuracy: 0.2344 - lr: 4.0000e-04\n",
      "Epoch 16/30\n",
      "21/21 [==============================] - 319s 15s/step - loss: 0.3866 - categorical_accuracy: 0.8690 - val_loss: 1.5555 - val_categorical_accuracy: 0.2578 - lr: 8.0000e-05\n",
      "Epoch 17/30\n",
      "21/21 [==============================] - 315s 15s/step - loss: 0.4429 - categorical_accuracy: 0.8318 - val_loss: 1.6330 - val_categorical_accuracy: 0.2500 - lr: 8.0000e-05\n",
      "Epoch 18/30\n",
      "21/21 [==============================] - 317s 15s/step - loss: 0.3902 - categorical_accuracy: 0.8467 - val_loss: 1.4950 - val_categorical_accuracy: 0.2891 - lr: 8.0000e-05\n",
      "Epoch 19/30\n",
      "21/21 [==============================] - ETA: 0s - loss: 0.4210 - categorical_accuracy: 0.8229 \n",
      "Epoch 19: ReduceLROnPlateau reducing learning rate to 1.599999814061448e-05.\n",
      "21/21 [==============================] - 327s 16s/step - loss: 0.4210 - categorical_accuracy: 0.8229 - val_loss: 1.4178 - val_categorical_accuracy: 0.3047 - lr: 8.0000e-05\n",
      "Epoch 20/30\n",
      "21/21 [==============================] - ETA: 0s - loss: 0.3803 - categorical_accuracy: 0.8676 \n",
      "Epoch 20: val_loss did not improve from 0.49638\n",
      "21/21 [==============================] - 322s 16s/step - loss: 0.3803 - categorical_accuracy: 0.8676 - val_loss: 1.2628 - val_categorical_accuracy: 0.3359 - lr: 1.6000e-05\n",
      "Epoch 21/30\n",
      "21/21 [==============================] - 317s 15s/step - loss: 0.3650 - categorical_accuracy: 0.8661 - val_loss: 1.1886 - val_categorical_accuracy: 0.3828 - lr: 1.6000e-05\n",
      "Epoch 22/30\n",
      "21/21 [==============================] - 315s 15s/step - loss: 0.3878 - categorical_accuracy: 0.8616 - val_loss: 1.1011 - val_categorical_accuracy: 0.3984 - lr: 1.6000e-05\n",
      "Epoch 23/30\n",
      "21/21 [==============================] - 321s 16s/step - loss: 0.3907 - categorical_accuracy: 0.8542 - val_loss: 1.0546 - val_categorical_accuracy: 0.4062 - lr: 1.6000e-05\n",
      "Epoch 24/30\n",
      "21/21 [==============================] - 317s 15s/step - loss: 0.3605 - categorical_accuracy: 0.8780 - val_loss: 0.9805 - val_categorical_accuracy: 0.4219 - lr: 1.6000e-05\n",
      "Epoch 25/30\n",
      "21/21 [==============================] - ETA: 0s - loss: 0.4218 - categorical_accuracy: 0.8586 \n",
      "Epoch 25: val_loss did not improve from 0.49638\n",
      "21/21 [==============================] - 318s 15s/step - loss: 0.4218 - categorical_accuracy: 0.8586 - val_loss: 0.8650 - val_categorical_accuracy: 0.4141 - lr: 1.6000e-05\n",
      "Epoch 26/30\n",
      "21/21 [==============================] - 306s 15s/step - loss: 0.3912 - categorical_accuracy: 0.8601 - val_loss: 0.7645 - val_categorical_accuracy: 0.4609 - lr: 1.6000e-05\n",
      "Epoch 27/30\n",
      "21/21 [==============================] - 316s 15s/step - loss: 0.3839 - categorical_accuracy: 0.8542 - val_loss: 0.6704 - val_categorical_accuracy: 0.5000 - lr: 1.6000e-05\n",
      "Epoch 28/30\n",
      "21/21 [==============================] - 316s 15s/step - loss: 0.3893 - categorical_accuracy: 0.8423 - val_loss: 0.6130 - val_categorical_accuracy: 0.4922 - lr: 1.6000e-05\n",
      "Epoch 29/30\n",
      "21/21 [==============================] - 330s 16s/step - loss: 0.3600 - categorical_accuracy: 0.8631 - val_loss: 0.7144 - val_categorical_accuracy: 0.4844 - lr: 1.6000e-05\n",
      "Epoch 30/30\n",
      "21/21 [==============================] - ETA: 0s - loss: 0.3549 - categorical_accuracy: 0.8765 \n",
      "Epoch 30: val_loss did not improve from 0.49638\n",
      "21/21 [==============================] - 319s 15s/step - loss: 0.3549 - categorical_accuracy: 0.8765 - val_loss: 0.5788 - val_categorical_accuracy: 0.5547 - lr: 1.6000e-05\n",
      "Started: 2022-07-13 13:19:05.041204\n",
      "Ended: 2022-07-13 16:00:07.996982\n"
     ]
    }
   ],
   "source": [
    "#num_epochs=50\n",
    "time_start=datetime.datetime.now()\n",
    "gru_model_history = gru_model.fit(train_generator, steps_per_epoch=steps_per_epoch, epochs=num_epochs, verbose=1, \n",
    "                                  callbacks=callbacks_list, validation_data=val_generator, \n",
    "                                  validation_steps=validation_steps, class_weight=None, workers=1, initial_epoch=0)\n",
    "time_end=datetime.datetime.now()\n",
    "print(\"Started: {}\".format(time_start))\n",
    "print(\"Ended: {}\".format(time_end))"
   ]
  },
  {
   "cell_type": "code",
   "execution_count": 20,
   "id": "171a62b7-ebbc-4c60-b0f0-5e55c9f4c053",
   "metadata": {},
   "outputs": [
    {
     "data": {
      "text/plain": [
       "<matplotlib.legend.Legend at 0x1b79a4783d0>"
      ]
     },
     "execution_count": 20,
     "metadata": {},
     "output_type": "execute_result"
    },
    {
     "data": {
      "image/png": "[encoded data removed]",
      "text/plain": [
       "<Figure size 1080x288 with 2 Axes>"
      ]
     },
     "metadata": {
      "needs_background": "light"
     },
     "output_type": "display_data"
    }
   ],
   "source": [
    "from matplotlib import pyplot as plt\n",
    "fig, axes = plt.subplots(nrows=1, ncols=2, figsize=(15,4))\n",
    "axes[0].plot(gru_model_history.history['loss'])   \n",
    "axes[0].plot(gru_model_history.history['val_loss'])\n",
    "axes[0].legend(['loss','val_loss'])\n",
    "\n",
    "axes[1].plot(gru_model_history.history['categorical_accuracy'])   \n",
    "axes[1].plot(gru_model_history.history['val_categorical_accuracy'])\n",
    "axes[1].legend(['categorical_accuracy','val_categorical_accuracy'])"
   ]
  },
  {
   "cell_type": "code",
   "execution_count": 21,
   "id": "e1ac9d82-a96c-4153-8713-23b27d40a0f3",
   "metadata": {},
   "outputs": [],
   "source": [
    "lstm_model = Sequential()\n",
    "\n",
    "lstm_model.add(TimeDistributed(Conv2D(16, (3, 3) , padding='same', activation='relu'),\n",
    "                          input_shape=(30,resize_val,resize_val,3)))\n",
    "lstm_model.add(TimeDistributed(BatchNormalization()))\n",
    "lstm_model.add(TimeDistributed(MaxPooling2D((2, 2))))\n",
    "\n",
    "lstm_model.add(TimeDistributed(Conv2D(32, (3, 3) , padding='same', activation='relu')))\n",
    "lstm_model.add(TimeDistributed(BatchNormalization()))\n",
    "lstm_model.add(TimeDistributed(MaxPooling2D((2, 2))))\n",
    "\n",
    "lstm_model.add(TimeDistributed(Conv2D(64, (3, 3) , padding='same', activation='relu')))\n",
    "lstm_model.add(TimeDistributed(BatchNormalization()))\n",
    "lstm_model.add(TimeDistributed(MaxPooling2D((2, 2))))\n",
    "\n",
    "lstm_model.add(TimeDistributed(Conv2D(128, (3, 3) , padding='same', activation='relu')))\n",
    "lstm_model.add(TimeDistributed(BatchNormalization()))\n",
    "lstm_model.add(TimeDistributed(MaxPooling2D((2, 2))))\n",
    "\n",
    "\n",
    "lstm_model.add(TimeDistributed(Flatten()))\n",
    "\n",
    "\n",
    "lstm_model.add(LSTM(units=128))\n",
    "lstm_model.add(Dropout(0.25))\n",
    "\n",
    "lstm_model.add(Dense(64,activation='relu'))\n",
    "lstm_model.add(Dropout(0.25))\n",
    "\n",
    "lstm_model.add(Dense(5, activation='softmax'))\n",
    "lstm_model.compile(optimizer='sgd', loss='categorical_crossentropy', metrics=['categorical_accuracy'])"
   ]
  },
  {
   "cell_type": "code",
   "execution_count": 22,
   "id": "d2e13400-3f1b-4ea5-a515-af3c177f49ed",
   "metadata": {},
   "outputs": [
    {
     "name": "stdout",
     "output_type": "stream",
     "text": [
      "Model: \"sequential_2\"\n",
      "_________________________________________________________________\n",
      " Layer (type)                Output Shape              Param #   \n",
      "=================================================================\n",
      " time_distributed_13 (TimeDi  (None, 30, 128, 128, 16)  448      \n",
      " stributed)                                                      \n",
      "                                                                 \n",
      " time_distributed_14 (TimeDi  (None, 30, 128, 128, 16)  64       \n",
      " stributed)                                                      \n",
      "                                                                 \n",
      " time_distributed_15 (TimeDi  (None, 30, 64, 64, 16)   0         \n",
      " stributed)                                                      \n",
      "                                                                 \n",
      " time_distributed_16 (TimeDi  (None, 30, 64, 64, 32)   4640      \n",
      " stributed)                                                      \n",
      "                                                                 \n",
      " time_distributed_17 (TimeDi  (None, 30, 64, 64, 32)   128       \n",
      " stributed)                                                      \n",
      "                                                                 \n",
      " time_distributed_18 (TimeDi  (None, 30, 32, 32, 32)   0         \n",
      " stributed)                                                      \n",
      "                                                                 \n",
      " time_distributed_19 (TimeDi  (None, 30, 32, 32, 64)   18496     \n",
      " stributed)                                                      \n",
      "                                                                 \n",
      " time_distributed_20 (TimeDi  (None, 30, 32, 32, 64)   256       \n",
      " stributed)                                                      \n",
      "                                                                 \n",
      " time_distributed_21 (TimeDi  (None, 30, 16, 16, 64)   0         \n",
      " stributed)                                                      \n",
      "                                                                 \n",
      " time_distributed_22 (TimeDi  (None, 30, 16, 16, 128)  73856     \n",
      " stributed)                                                      \n",
      "                                                                 \n",
      " time_distributed_23 (TimeDi  (None, 30, 16, 16, 128)  512       \n",
      " stributed)                                                      \n",
      "                                                                 \n",
      " time_distributed_24 (TimeDi  (None, 30, 8, 8, 128)    0         \n",
      " stributed)                                                      \n",
      "                                                                 \n",
      " time_distributed_25 (TimeDi  (None, 30, 8192)         0         \n",
      " stributed)                                                      \n",
      "                                                                 \n",
      " lstm (LSTM)                 (None, 128)               4260352   \n",
      "                                                                 \n",
      " dropout_4 (Dropout)         (None, 128)               0         \n",
      "                                                                 \n",
      " dense_5 (Dense)             (None, 64)                8256      \n",
      "                                                                 \n",
      " dropout_5 (Dropout)         (None, 64)                0         \n",
      "                                                                 \n",
      " dense_6 (Dense)             (None, 5)                 325       \n",
      "                                                                 \n",
      "=================================================================\n",
      "Total params: 4,367,333\n",
      "Trainable params: 4,366,853\n",
      "Non-trainable params: 480\n",
      "_________________________________________________________________\n"
     ]
    }
   ],
   "source": [
    "lstm_model.summary()"
   ]
  },
  {
   "cell_type": "code",
   "execution_count": 23,
   "id": "3f175fe6-5de1-4a2e-ba25-84471f20b533",
   "metadata": {},
   "outputs": [
    {
     "name": "stderr",
     "output_type": "stream",
     "text": [
      "C:\\Users\\JITHAN\\AppData\\Local\\Temp/ipykernel_65668/2932977404.py:16: DeprecationWarning: Starting with ImageIO v3 the behavior of this function will switch to that of iio.v3.imread. To keep the current behavior (and make this warning dissapear) use `import imageio.v2 as imageio` or call `imageio.v2.imread` directly.\n",
      "  image = imread(source_path+'/'+ t[folder + (batch*batch_size)].strip().split(';')[0]+'/'+imgs[item]).astype(np.float32)\n"
     ]
    },
    {
     "name": "stdout",
     "output_type": "stream",
     "text": [
      "Epoch 1/30\n",
      "17/21 [=======================>......] - ETA: 59s - loss: 1.6166 - categorical_accuracy: 0.2776 "
     ]
    },
    {
     "name": "stderr",
     "output_type": "stream",
     "text": [
      "C:\\Users\\JITHAN\\AppData\\Local\\Temp/ipykernel_65668/2932977404.py:38: DeprecationWarning: Starting with ImageIO v3 the behavior of this function will switch to that of iio.v3.imread. To keep the current behavior (and make this warning dissapear) use `import imageio.v2 as imageio` or call `imageio.v2.imread` directly.\n",
      "  image = imread(source_path+'/'+ t[folder + (batch*batch_size)].strip().split(';')[0]+'/'+imgs[item]).astype(np.float32)\n"
     ]
    },
    {
     "name": "stdout",
     "output_type": "stream",
     "text": [
      "21/21 [==============================] - 341s 16s/step - loss: 1.5434 - categorical_accuracy: 0.3110 - val_loss: 1.2545 - val_categorical_accuracy: 0.3672 - lr: 0.0100\n",
      "Epoch 2/30\n",
      "21/21 [==============================] - 322s 16s/step - loss: 1.2907 - categorical_accuracy: 0.4524 - val_loss: 1.2483 - val_categorical_accuracy: 0.2578 - lr: 0.0100\n",
      "Epoch 3/30\n",
      "21/21 [==============================] - 323s 16s/step - loss: 1.1150 - categorical_accuracy: 0.5595 - val_loss: 1.2669 - val_categorical_accuracy: 0.1406 - lr: 0.0100\n",
      "Epoch 4/30\n",
      "21/21 [==============================] - 314s 15s/step - loss: 0.9087 - categorical_accuracy: 0.6771 - val_loss: 1.3403 - val_categorical_accuracy: 0.1641 - lr: 0.0100\n",
      "Epoch 5/30\n",
      "21/21 [==============================] - ETA: 0s - loss: 0.8193 - categorical_accuracy: 0.6994 \n",
      "Epoch 5: val_loss did not improve from 0.49638\n",
      "21/21 [==============================] - 333s 16s/step - loss: 0.8193 - categorical_accuracy: 0.6994 - val_loss: 1.3621 - val_categorical_accuracy: 0.1562 - lr: 0.0100\n",
      "Epoch 6/30\n",
      "21/21 [==============================] - ETA: 0s - loss: 0.7558 - categorical_accuracy: 0.7262 \n",
      "Epoch 6: ReduceLROnPlateau reducing learning rate to 0.0019999999552965165.\n",
      "21/21 [==============================] - 326s 16s/step - loss: 0.7558 - categorical_accuracy: 0.7262 - val_loss: 1.3709 - val_categorical_accuracy: 0.2344 - lr: 0.0100\n",
      "Epoch 7/30\n",
      "21/21 [==============================] - 321s 16s/step - loss: 0.5683 - categorical_accuracy: 0.8140 - val_loss: 1.4077 - val_categorical_accuracy: 0.2344 - lr: 0.0020\n",
      "Epoch 8/30\n",
      "21/21 [==============================] - 314s 15s/step - loss: 0.5580 - categorical_accuracy: 0.8199 - val_loss: 1.4259 - val_categorical_accuracy: 0.2344 - lr: 0.0020\n",
      "Epoch 9/30\n",
      "21/21 [==============================] - 324s 16s/step - loss: 0.5198 - categorical_accuracy: 0.8229 - val_loss: 1.4568 - val_categorical_accuracy: 0.2266 - lr: 0.0020\n",
      "Epoch 10/30\n",
      "21/21 [==============================] - ETA: 0s - loss: 0.4756 - categorical_accuracy: 0.8423 \n",
      "Epoch 10: val_loss did not improve from 0.49638\n",
      "\n",
      "Epoch 10: ReduceLROnPlateau reducing learning rate to 0.0003999999724328518.\n",
      "21/21 [==============================] - 322s 16s/step - loss: 0.4756 - categorical_accuracy: 0.8423 - val_loss: 1.5198 - val_categorical_accuracy: 0.1875 - lr: 0.0020\n",
      "Epoch 11/30\n",
      "21/21 [==============================] - 325s 16s/step - loss: 0.4607 - categorical_accuracy: 0.8512 - val_loss: 1.6009 - val_categorical_accuracy: 0.1641 - lr: 4.0000e-04\n",
      "Epoch 12/30\n",
      "21/21 [==============================] - 317s 15s/step - loss: 0.4516 - categorical_accuracy: 0.8646 - val_loss: 1.5107 - val_categorical_accuracy: 0.2109 - lr: 4.0000e-04\n",
      "Epoch 13/30\n",
      "21/21 [==============================] - 340s 17s/step - loss: 0.4288 - categorical_accuracy: 0.8795 - val_loss: 1.5478 - val_categorical_accuracy: 0.1953 - lr: 4.0000e-04\n",
      "Epoch 14/30\n",
      "21/21 [==============================] - ETA: 0s - loss: 0.4550 - categorical_accuracy: 0.8467 \n",
      "Epoch 14: ReduceLROnPlateau reducing learning rate to 7.999999215826393e-05.\n",
      "21/21 [==============================] - 339s 16s/step - loss: 0.4550 - categorical_accuracy: 0.8467 - val_loss: 1.5454 - val_categorical_accuracy: 0.2109 - lr: 4.0000e-04\n",
      "Epoch 15/30\n",
      "21/21 [==============================] - ETA: 0s - loss: 0.4474 - categorical_accuracy: 0.8423 \n",
      "Epoch 15: val_loss did not improve from 0.49638\n",
      "21/21 [==============================] - 328s 16s/step - loss: 0.4474 - categorical_accuracy: 0.8423 - val_loss: 1.5273 - val_categorical_accuracy: 0.2422 - lr: 8.0000e-05\n",
      "Epoch 16/30\n",
      "21/21 [==============================] - 321s 16s/step - loss: 0.4353 - categorical_accuracy: 0.8586 - val_loss: 1.5540 - val_categorical_accuracy: 0.2188 - lr: 8.0000e-05\n",
      "Epoch 17/30\n",
      "21/21 [==============================] - 325s 16s/step - loss: 0.4396 - categorical_accuracy: 0.8661 - val_loss: 1.4307 - val_categorical_accuracy: 0.2422 - lr: 8.0000e-05\n",
      "Epoch 18/30\n",
      "21/21 [==============================] - ETA: 0s - loss: 0.4502 - categorical_accuracy: 0.8527 \n",
      "Epoch 18: ReduceLROnPlateau reducing learning rate to 1.599999814061448e-05.\n",
      "21/21 [==============================] - 323s 16s/step - loss: 0.4502 - categorical_accuracy: 0.8527 - val_loss: 1.3920 - val_categorical_accuracy: 0.2500 - lr: 8.0000e-05\n",
      "Epoch 19/30\n",
      "21/21 [==============================] - 330s 16s/step - loss: 0.4221 - categorical_accuracy: 0.8824 - val_loss: 1.3351 - val_categorical_accuracy: 0.2891 - lr: 1.6000e-05\n",
      "Epoch 20/30\n",
      "21/21 [==============================] - ETA: 0s - loss: 0.4203 - categorical_accuracy: 0.8810 \n",
      "Epoch 20: val_loss did not improve from 0.49638\n",
      "21/21 [==============================] - 323s 16s/step - loss: 0.4203 - categorical_accuracy: 0.8810 - val_loss: 1.1976 - val_categorical_accuracy: 0.3281 - lr: 1.6000e-05\n",
      "Epoch 21/30\n",
      "21/21 [==============================] - 327s 16s/step - loss: 0.4142 - categorical_accuracy: 0.8765 - val_loss: 1.1239 - val_categorical_accuracy: 0.3750 - lr: 1.6000e-05\n",
      "Epoch 22/30\n",
      "21/21 [==============================] - 323s 16s/step - loss: 0.4198 - categorical_accuracy: 0.8780 - val_loss: 1.0297 - val_categorical_accuracy: 0.3672 - lr: 1.6000e-05\n",
      "Epoch 23/30\n",
      "21/21 [==============================] - 322s 16s/step - loss: 0.4133 - categorical_accuracy: 0.8795 - val_loss: 0.9606 - val_categorical_accuracy: 0.3828 - lr: 1.6000e-05\n",
      "Epoch 24/30\n",
      "21/21 [==============================] - 324s 16s/step - loss: 0.4324 - categorical_accuracy: 0.8765 - val_loss: 0.9025 - val_categorical_accuracy: 0.3984 - lr: 1.6000e-05\n",
      "Epoch 25/30\n",
      "21/21 [==============================] - ETA: 0s - loss: 0.4356 - categorical_accuracy: 0.8750 \n",
      "Epoch 25: val_loss did not improve from 0.49638\n",
      "21/21 [==============================] - 327s 16s/step - loss: 0.4356 - categorical_accuracy: 0.8750 - val_loss: 0.8256 - val_categorical_accuracy: 0.4297 - lr: 1.6000e-05\n",
      "Epoch 26/30\n",
      "21/21 [==============================] - 316s 15s/step - loss: 0.4058 - categorical_accuracy: 0.8780 - val_loss: 0.8465 - val_categorical_accuracy: 0.4609 - lr: 1.6000e-05\n",
      "Epoch 27/30\n",
      "21/21 [==============================] - 322s 16s/step - loss: 0.4147 - categorical_accuracy: 0.8780 - val_loss: 0.6859 - val_categorical_accuracy: 0.4922 - lr: 1.6000e-05\n",
      "Epoch 28/30\n",
      "21/21 [==============================] - 319s 15s/step - loss: 0.4206 - categorical_accuracy: 0.8720 - val_loss: 0.6600 - val_categorical_accuracy: 0.5859 - lr: 1.6000e-05\n",
      "Epoch 29/30\n",
      "21/21 [==============================] - 350s 17s/step - loss: 0.4007 - categorical_accuracy: 0.9003 - val_loss: 0.6382 - val_categorical_accuracy: 0.5859 - lr: 1.6000e-05\n",
      "Epoch 30/30\n",
      "21/21 [==============================] - ETA: 0s - loss: 0.4367 - categorical_accuracy: 0.8646 \n",
      "Epoch 30: val_loss did not improve from 0.49638\n",
      "21/21 [==============================] - 369s 18s/step - loss: 0.4367 - categorical_accuracy: 0.8646 - val_loss: 0.6308 - val_categorical_accuracy: 0.5938 - lr: 1.6000e-05\n",
      "Started: 2022-07-13 16:00:09.858184\n",
      "Ended: 2022-07-13 18:43:47.556291\n"
     ]
    }
   ],
   "source": [
    "#num_epochs=50\n",
    "time_start=datetime.datetime.now()\n",
    "lstm_model_history = lstm_model.fit(train_generator, steps_per_epoch=steps_per_epoch, epochs=num_epochs, verbose=1, \n",
    "                                    callbacks=callbacks_list, validation_data=val_generator, \n",
    "                                    validation_steps=validation_steps, class_weight=None, workers=1, initial_epoch=0)\n",
    "time_end=datetime.datetime.now()\n",
    "print(\"Started: {}\".format(time_start))\n",
    "print(\"Ended: {}\".format(time_end))"
   ]
  },
  {
   "cell_type": "code",
   "execution_count": 24,
   "id": "c5c858a7-c46f-497e-8e09-68db75fa930a",
   "metadata": {},
   "outputs": [
    {
     "data": {
      "text/plain": [
       "<matplotlib.legend.Legend at 0x1b796cb1330>"
      ]
     },
     "execution_count": 24,
     "metadata": {},
     "output_type": "execute_result"
    },
    {
     "data": {
      "image/png": "[encoded data removed]",
      "text/plain": [
       "<Figure size 1080x288 with 2 Axes>"
      ]
     },
     "metadata": {
      "needs_background": "light"
     },
     "output_type": "display_data"
    }
   ],
   "source": [
    "from matplotlib import pyplot as plt\n",
    "fig, axes = plt.subplots(nrows=1, ncols=2, figsize=(15,4))\n",
    "axes[0].plot(lstm_model_history.history['loss'])   \n",
    "axes[0].plot(lstm_model_history.history['val_loss'])\n",
    "axes[0].legend(['loss','val_loss'])\n",
    "\n",
    "axes[1].plot(lstm_model_history.history['categorical_accuracy'])   \n",
    "axes[1].plot(lstm_model_history.history['val_categorical_accuracy'])\n",
    "axes[1].legend(['categorical_accuracy','val_categorical_accuracy'])"
   ]
  },
  {
   "cell_type": "code",
   "execution_count": 25,
   "id": "c4f43a4c-44b2-417a-9652-d1a7bac8d87a",
   "metadata": {},
   "outputs": [
    {
     "name": "stdout",
     "output_type": "stream",
     "text": [
      "Package                      Version\n",
      "---------------------------- -------------------\n",
      "absl-py                      1.0.0\n",
      "alice-blue                   1.0.2\n",
      "anyio                        3.4.0\n",
      "argon2-cffi                  21.1.0\n",
      "asgiref                      3.4.1\n",
      "astunparse                   1.6.3\n",
      "attrs                        21.2.0\n",
      "Augmentor                    0.2.10\n",
      "Babel                        2.9.1\n",
      "backcall                     0.2.0\n",
      "beautifulsoup4               4.10.0\n",
      "bleach                       4.1.0\n",
      "bs4                          0.0.1\n",
      "cachetools                   5.2.0\n",
      "certifi                      2021.10.8\n",
      "cffi                         1.15.0\n",
      "charset-normalizer           2.0.8\n",
      "click                        8.0.3\n",
      "colorama                     0.4.4\n",
      "cycler                       0.11.0\n",
      "debugpy                      1.5.1\n",
      "decorator                    5.1.0\n",
      "defusedxml                   0.7.1\n",
      "Django                       4.0.1\n",
      "entrypoints                  0.3\n",
      "et-xmlfile                   1.1.0\n",
      "Flask                        2.0.2\n",
      "flatbuffers                  2.0\n",
      "fonttools                    4.28.3\n",
      "future                       0.18.2\n",
      "gast                         0.5.3\n",
      "google-auth                  2.6.6\n",
      "google-auth-oauthlib         0.4.6\n",
      "google-pasta                 0.2.0\n",
      "grpcio                       1.46.3\n",
      "h5py                         3.7.0\n",
      "idna                         3.3\n",
      "imageio                      2.19.3\n",
      "ipykernel                    6.5.1\n",
      "ipython                      7.30.0\n",
      "ipython-genutils             0.2.0\n",
      "itsdangerous                 2.0.1\n",
      "jedi                         0.18.1\n",
      "Jinja2                       3.0.3\n",
      "joblib                       1.1.0\n",
      "json5                        0.9.6\n",
      "jsonschema                   4.2.1\n",
      "jupyter-client               7.1.0\n",
      "jupyter-core                 4.9.1\n",
      "jupyter-http-over-ws         0.0.8\n",
      "jupyter-server               1.12.1\n",
      "jupyterlab                   3.2.4\n",
      "jupyterlab-pygments          0.1.2\n",
      "jupyterlab-server            2.8.2\n",
      "keras                        2.8.0\n",
      "Keras-Preprocessing          1.1.2\n",
      "kiwisolver                   1.3.2\n",
      "libclang                     14.0.1\n",
      "Markdown                     3.3.7\n",
      "MarkupSafe                   2.0.1\n",
      "matplotlib                   3.5.1\n",
      "matplotlib-inline            0.1.3\n",
      "mistune                      0.8.4\n",
      "nbclassic                    0.3.4\n",
      "nbclient                     0.5.9\n",
      "nbconvert                    6.3.0\n",
      "nbformat                     5.1.3\n",
      "nest-asyncio                 1.5.1\n",
      "networkx                     2.8.4\n",
      "notebook                     6.4.6\n",
      "numpy                        1.21.4\n",
      "oauthlib                     3.2.0\n",
      "opencv-python                4.6.0.66\n",
      "openpyxl                     3.0.10\n",
      "opt-einsum                   3.3.0\n",
      "packaging                    21.3\n",
      "pandas                       1.3.4\n",
      "pandocfilters                1.5.0\n",
      "parso                        0.8.2\n",
      "patsy                        0.5.2\n",
      "pickleshare                  0.7.5\n",
      "Pillow                       8.4.0\n",
      "pip                          21.2.3\n",
      "playsound                    1.3.0\n",
      "plotly                       5.4.0\n",
      "prometheus-client            0.12.0\n",
      "prompt-toolkit               3.0.23\n",
      "protlib                      1.4\n",
      "protobuf                     3.19.4\n",
      "pyasn1                       0.4.8\n",
      "pyasn1-modules               0.2.8\n",
      "pycparser                    2.21\n",
      "Pygments                     2.10.0\n",
      "pymongo                      4.0.2\n",
      "pyparsing                    3.0.6\n",
      "pyrsistent                   0.18.0\n",
      "python-dateutil              2.8.2\n",
      "pytz                         2021.3\n",
      "PyWavelets                   1.3.0\n",
      "pywin32                      302\n",
      "pywinpty                     1.1.6\n",
      "pyzmq                        22.3.0\n",
      "requests                     2.26.0\n",
      "requests-oauthlib            1.3.1\n",
      "rsa                          4.8\n",
      "scikit-image                 0.19.3\n",
      "scikit-learn                 1.0.2\n",
      "scipy                        1.8.1\n",
      "seaborn                      0.11.2\n",
      "Send2Trash                   1.8.0\n",
      "setuptools                   57.4.0\n",
      "six                          1.16.0\n",
      "sklearn                      0.0\n",
      "smartapi-python              1.2.9\n",
      "sniffio                      1.2.0\n",
      "soupsieve                    2.3.1\n",
      "sqlparse                     0.4.2\n",
      "statsmodels                  0.13.1\n",
      "tenacity                     8.0.1\n",
      "tensorboard                  2.8.0\n",
      "tensorboard-data-server      0.6.1\n",
      "tensorboard-plugin-wit       1.8.1\n",
      "tensorflow                   2.8.0\n",
      "tensorflow-io-gcs-filesystem 0.26.0\n",
      "termcolor                    1.1.0\n",
      "Note: you may need to restart the kernel to use updated packages.terminado                    0.12.1\n",
      "testpath                     0.5.0\n",
      "tf-estimator-nightly         2.8.0.dev2021122109\n",
      "threadpoolctl                3.1.0\n",
      "tifffile                     2022.5.4\n",
      "tornado                      6.1\n",
      "tqdm                         4.64.0\n",
      "\n"
     ]
    },
    {
     "name": "stderr",
     "output_type": "stream",
     "text": [
      "WARNING: Ignoring invalid distribution -rotobuf (c:\\python\\lib\\site-packages)\n",
      "WARNING: Ignoring invalid distribution -rotobuf (c:\\python\\lib\\site-packages)\n",
      "WARNING: Ignoring invalid distribution -rotobuf (c:\\python\\lib\\site-packages)\n",
      "WARNING: Ignoring invalid distribution -rotobuf (c:\\python\\lib\\site-packages)\n",
      "WARNING: You are using pip version 21.2.3; however, version 22.1.2 is available.\n",
      "You should consider upgrading via the 'C:\\Python\\python.exe -m pip install --upgrade pip' command.\n"
     ]
    },
    {
     "name": "stdout",
     "output_type": "stream",
     "text": [
      "traitlets                    5.1.1\n",
      "typing_extensions            4.2.0\n",
      "tzdata                       2021.5\n",
      "urllib3                      1.26.7\n",
      "wcwidth                      0.2.5\n",
      "webencodings                 0.5.1\n",
      "websocket-client             1.2.1\n",
      "Werkzeug                     2.0.2\n",
      "wheel                        0.37.1\n",
      "wrapt                        1.14.1\n",
      "xgboost                      1.6.0\n",
      "xlwings                      0.25.2\n"
     ]
    }
   ],
   "source": [
    "pip list"
   ]
  },
  {
   "cell_type": "code",
   "execution_count": null,
   "id": "8b4bbb66-5da9-4658-a4ef-fa9108919e9c",
   "metadata": {},
   "outputs": [],
   "source": []
  }
 ],
 "metadata": {
  "kernelspec": {
   "display_name": "Python 3 (ipykernel)",
   "language": "python",
   "name": "python3"
  },
  "language_info": {
   "codemirror_mode": {
    "name": "ipython",
    "version": 3
   },
   "file_extension": ".py",
   "mimetype": "text/x-python",
   "name": "python",
   "nbconvert_exporter": "python",
   "pygments_lexer": "ipython3",
   "version": "3.10.0"
  }
 },
 "nbformat": 4,
 "nbformat_minor": 5
}
